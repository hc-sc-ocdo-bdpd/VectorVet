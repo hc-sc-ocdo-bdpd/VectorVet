{
 "cells": [
  {
   "cell_type": "markdown",
   "metadata": {},
   "source": [
    "# 📓 Load Embeddings and Analyze \n",
    "  \n",
    "This notebook focuses on **loading pre-generated embeddings, computing metrics, and summarizing results**.  \n",
    "  \n",
    "## 🔧 Setup and Imports"
   ]
  },
  {
   "cell_type": "code",
   "execution_count": null,
   "metadata": {},
   "outputs": [],
   "source": [
    "import sys  \n",
    "from pathlib import Path  \n",
    "  \n",
    "import numpy as np  \n",
    "import pandas as pd  \n",
    "  \n",
    "PROJECT_ROOT = Path.cwd().parent  \n",
    "sys.path.append(str(PROJECT_ROOT))  \n",
    "  \n",
    "from vectorvet.core.loader import load_multiple_embeddings  \n",
    "from vectorvet.core.metrics import run_all_metrics  \n",
    "from vectorvet.core.summarizer import summarize_to_dataframe  \n",
    "from vectorvet.core.utils import timer  \n",
    "  \n",
    "pd.set_option(\"display.max_columns\", None)  \n",
    "  \n",
    "EMB_DIR = PROJECT_ROOT / \"embeddings\""
   ]
  },
  {
   "cell_type": "markdown",
   "metadata": {},
   "source": [
    "## 📂 Load Saved Embeddings"
   ]
  },
  {
   "cell_type": "code",
   "execution_count": 2,
   "metadata": {},
   "outputs": [
    {
     "name": "stdout",
     "output_type": "stream",
     "text": [
      "🗂️ Embedding sets detected: ['Llama-3.1-8b-instruct-q6_k', 'Llama-3.2-1B-Instruct.Q6_K', 'phi-2.Q6_K', 'Phi-3-mini-4k-instruct-q4']\n"
     ]
    }
   ],
   "source": [
    "files = {  \n",
    "    p.stem.split(\"_20news_chunks\")[0]: str(p)  \n",
    "    for p in EMB_DIR.glob(\"*_20news_chunks.npy\")  \n",
    "}  \n",
    "  \n",
    "print(\"🗂️ Embedding sets detected:\", list(files.keys()))  \n",
    "  \n",
    "embs = load_multiple_embeddings(files)"
   ]
  },
  {
   "cell_type": "markdown",
   "metadata": {},
   "source": [
    "## 📊 Compute Metrics and Summarize Results"
   ]
  },
  {
   "cell_type": "code",
   "execution_count": 3,
   "metadata": {},
   "outputs": [
    {
     "name": "stdout",
     "output_type": "stream",
     "text": [
      "\n",
      "📐 Running metrics for: Llama-3.1-8b-instruct-q6_k\n",
      "Calculating Isotropy...\n",
      "Calculating Hubness...\n",
      "Calculating Clustering Quality...\n",
      "Calculating Pairwise Cosine Similarity...\n",
      "[Metrics computation for Llama-3.1-8b-instruct-q6_k] 1.13s\n",
      "\n",
      "📐 Running metrics for: Llama-3.2-1B-Instruct.Q6_K\n",
      "Calculating Isotropy...\n",
      "Calculating Hubness...\n",
      "Calculating Clustering Quality...\n",
      "Calculating Pairwise Cosine Similarity...\n",
      "[Metrics computation for Llama-3.2-1B-Instruct.Q6_K] 0.60s\n",
      "\n",
      "📐 Running metrics for: phi-2.Q6_K\n",
      "Calculating Isotropy...\n",
      "Calculating Hubness...\n",
      "Calculating Clustering Quality...\n",
      "Calculating Pairwise Cosine Similarity...\n",
      "[Metrics computation for phi-2.Q6_K] 0.61s\n",
      "\n",
      "📐 Running metrics for: Phi-3-mini-4k-instruct-q4\n",
      "Calculating Isotropy...\n",
      "Calculating Hubness...\n",
      "Calculating Clustering Quality...\n",
      "Calculating Pairwise Cosine Similarity...\n",
      "[Metrics computation for Phi-3-mini-4k-instruct-q4] 0.68s\n"
     ]
    },
    {
     "data": {
      "text/html": [
       "<style type=\"text/css\">\n",
       "</style>\n",
       "<table id=\"T_25913\">\n",
       "  <thead>\n",
       "    <tr>\n",
       "      <th class=\"blank level0\" >&nbsp;</th>\n",
       "      <th id=\"T_25913_level0_col0\" class=\"col_heading level0 col0\" >IsoScore</th>\n",
       "      <th id=\"T_25913_level0_col1\" class=\"col_heading level0 col1\" >skewness</th>\n",
       "      <th id=\"T_25913_level0_col2\" class=\"col_heading level0 col2\" >robin_hood</th>\n",
       "      <th id=\"T_25913_level0_col3\" class=\"col_heading level0 col3\" >antihub_rate</th>\n",
       "      <th id=\"T_25913_level0_col4\" class=\"col_heading level0 col4\" >silhouette</th>\n",
       "      <th id=\"T_25913_level0_col5\" class=\"col_heading level0 col5\" >davies_bouldin</th>\n",
       "      <th id=\"T_25913_level0_col6\" class=\"col_heading level0 col6\" >cos_mean</th>\n",
       "      <th id=\"T_25913_level0_col7\" class=\"col_heading level0 col7\" >cos_std</th>\n",
       "    </tr>\n",
       "  </thead>\n",
       "  <tbody>\n",
       "    <tr>\n",
       "      <th id=\"T_25913_level0_row0\" class=\"row_heading level0 row0\" >Llama-3.1-8b-instruct-q6_k</th>\n",
       "      <td id=\"T_25913_row0_col0\" class=\"data row0 col0\" >0.003</td>\n",
       "      <td id=\"T_25913_row0_col1\" class=\"data row0 col1\" >1.794</td>\n",
       "      <td id=\"T_25913_row0_col2\" class=\"data row0 col2\" >0.289</td>\n",
       "      <td id=\"T_25913_row0_col3\" class=\"data row0 col3\" >0.000</td>\n",
       "      <td id=\"T_25913_row0_col4\" class=\"data row0 col4\" >0.110</td>\n",
       "      <td id=\"T_25913_row0_col5\" class=\"data row0 col5\" >2.729</td>\n",
       "      <td id=\"T_25913_row0_col6\" class=\"data row0 col6\" >0.488</td>\n",
       "      <td id=\"T_25913_row0_col7\" class=\"data row0 col7\" >0.170</td>\n",
       "    </tr>\n",
       "    <tr>\n",
       "      <th id=\"T_25913_level0_row1\" class=\"row_heading level0 row1\" >Llama-3.2-1B-Instruct.Q6_K</th>\n",
       "      <td id=\"T_25913_row1_col0\" class=\"data row1 col0\" >0.001</td>\n",
       "      <td id=\"T_25913_row1_col1\" class=\"data row1 col1\" >2.252</td>\n",
       "      <td id=\"T_25913_row1_col2\" class=\"data row1 col2\" >0.336</td>\n",
       "      <td id=\"T_25913_row1_col3\" class=\"data row1 col3\" >0.000</td>\n",
       "      <td id=\"T_25913_row1_col4\" class=\"data row1 col4\" >0.084</td>\n",
       "      <td id=\"T_25913_row1_col5\" class=\"data row1 col5\" >2.682</td>\n",
       "      <td id=\"T_25913_row1_col6\" class=\"data row1 col6\" >0.692</td>\n",
       "      <td id=\"T_25913_row1_col7\" class=\"data row1 col7\" >0.171</td>\n",
       "    </tr>\n",
       "    <tr>\n",
       "      <th id=\"T_25913_level0_row2\" class=\"row_heading level0 row2\" >Phi-3-mini-4k-instruct-q4</th>\n",
       "      <td id=\"T_25913_row2_col0\" class=\"data row2 col0\" >0.001</td>\n",
       "      <td id=\"T_25913_row2_col1\" class=\"data row2 col1\" >3.177</td>\n",
       "      <td id=\"T_25913_row2_col2\" class=\"data row2 col2\" >0.373</td>\n",
       "      <td id=\"T_25913_row2_col3\" class=\"data row2 col3\" >0.000</td>\n",
       "      <td id=\"T_25913_row2_col4\" class=\"data row2 col4\" >0.034</td>\n",
       "      <td id=\"T_25913_row2_col5\" class=\"data row2 col5\" >3.017</td>\n",
       "      <td id=\"T_25913_row2_col6\" class=\"data row2 col6\" >0.768</td>\n",
       "      <td id=\"T_25913_row2_col7\" class=\"data row2 col7\" >0.145</td>\n",
       "    </tr>\n",
       "    <tr>\n",
       "      <th id=\"T_25913_level0_row3\" class=\"row_heading level0 row3\" >phi-2.Q6_K</th>\n",
       "      <td id=\"T_25913_row3_col0\" class=\"data row3 col0\" >0.001</td>\n",
       "      <td id=\"T_25913_row3_col1\" class=\"data row3 col1\" >2.357</td>\n",
       "      <td id=\"T_25913_row3_col2\" class=\"data row3 col2\" >0.340</td>\n",
       "      <td id=\"T_25913_row3_col3\" class=\"data row3 col3\" >0.000</td>\n",
       "      <td id=\"T_25913_row3_col4\" class=\"data row3 col4\" >0.072</td>\n",
       "      <td id=\"T_25913_row3_col5\" class=\"data row3 col5\" >2.604</td>\n",
       "      <td id=\"T_25913_row3_col6\" class=\"data row3 col6\" >0.670</td>\n",
       "      <td id=\"T_25913_row3_col7\" class=\"data row3 col7\" >0.171</td>\n",
       "    </tr>\n",
       "  </tbody>\n",
       "</table>\n"
      ],
      "text/plain": [
       "<pandas.io.formats.style.Styler at 0x7f80780db8e0>"
      ]
     },
     "execution_count": 3,
     "metadata": {},
     "output_type": "execute_result"
    }
   ],
   "source": [
    "results = {}  \n",
    "for name, mat in embs.items():  \n",
    "    print(f\"\\n📐 Running metrics for: {name}\")  \n",
    "    with timer(f\"Metrics computation for {name}\"):  \n",
    "        results[name] = run_all_metrics(mat)  \n",
    "  \n",
    "summary_df = summarize_to_dataframe(results)  \n",
    "summary_df.style.format(precision=3)"
   ]
  },
  {
   "cell_type": "markdown",
   "metadata": {},
   "source": [
    "## ✅ Final Results  \n",
    "  \n",
    "The resulting table summarizes the embedding quality across all models, making it easy to compare and interpret metrics like isotropy, hubness, clustering quality, and pairwise cosine similarity."
   ]
  }
 ],
 "metadata": {
  "kernelspec": {
   "display_name": "Python 3",
   "language": "python",
   "name": "python3"
  },
  "language_info": {
   "codemirror_mode": {
    "name": "ipython",
    "version": 3
   },
   "file_extension": ".py",
   "mimetype": "text/x-python",
   "name": "python",
   "nbconvert_exporter": "python",
   "pygments_lexer": "ipython3",
   "version": "3.10.12"
  }
 },
 "nbformat": 4,
 "nbformat_minor": 2
}
